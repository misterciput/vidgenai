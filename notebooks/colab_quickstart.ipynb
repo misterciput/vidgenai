{
  "cells": [
    {
      "cell_type": "markdown",
      "metadata": {
        "id": "header"
      },
      "source": [
        "# 🎬 LoFi Video Generator - Quick Start\n",
        "\n",
        "Generate beautiful, seamlessly looping LoFi videos from static images using CogVideoX-5B-I2V.\n",
        "\n",
        "[![GitHub](https://img.shields.io/badge/GitHub-Repository-blue)](https://github.com/misterciput/vidgenai)\n",
        "\n",
        "## 🚀 Features\n",
        "- 🔄 Perfect seamless loops\n",
        "- 🎨 Optimized for LoFi natural scenery\n",
        "- ⚡ 10-15 minutes generation time\n",
        "- 💾 Memory efficient (fits in Colab's 15GB)\n"
      ]
    },
    {
      "cell_type": "markdown",
      "metadata": {
        "id": "setup"
      },
      "source": [
        "## 🛠️ Setup & Installation"
      ]
    },
    {
      "cell_type": "code",
      "execution_count": null,
      "metadata": {
        "id": "check_gpu"
      },
      "outputs": [],
      "source": [
        "# Check GPU availability\n",
        "!nvidia-smi"
      ]
    },
    {
      "cell_type": "code",
      "execution_count": null,
      "metadata": {
        "id": "clone_repo"
      },
      "outputs": [],
      "source": [
        "# Clone the repository\n",
        "!git clone https://github.com/yourusername/lofi-video-generator.git\n",
        "%cd lofi-video-generator"
      ]
    },
    {
      "cell_type": "code",
      "execution_count": null,
      "metadata": {
        "id": "install_requirements"
      },
      "outputs": [],
      "source": [
        "# Install requirements\n",
        "!pip install -r requirements.txt"
      ]
    },
    {
      "cell_type": "markdown",
      "metadata": {
        "id": "import"
      },
      "source": [
        "## 📦 Import Libraries"
      ]
    },
    {
      "cell_type": "code",
      "execution_count": null,
      "metadata": {
        "id": "imports"
      },
      "outputs": [],
      "source": [
        "import sys\n",
        "sys.path.append('/content/lofi-video-generator/src')\n",
        "\n",
        "from lofi_video_generator import LoFiVideoGenerator\n",
        "from google.colab import files\n",
        "import os\n",
        "import torch\n",
        "\n",
        "print(f\"PyTorch version: {torch.__version__}\")\n",
        "print(f\"CUDA available: {torch.cuda.is_available()}\")\n",
        "if torch.cuda.is_available():\n",
        "    print(f\"GPU: {torch.cuda.get_device_name()}\")\n",
        "    print(f\"GPU Memory: {torch.cuda.get_device_properties(0).total_memory / 1024**3:.1f} GB\")"
      ]
    },
    {
      "cell_type": "markdown",
      "metadata": {
        "id": "upload"
      },
      "source": [
        "## 📷 Upload Your LoFi Images"
      ]
    },
    {
      "cell_type": "code",
      "execution_count": null,
      "metadata": {
        "id": "upload_images"
      },
      "outputs": [],
      "source": [
        "# Upload your LoFi images\n",
        "print(\"📤 Upload your LoFi landscape images (JPG, PNG):\")\n",
        "uploaded = files.upload()\n",
        "\n",
        "# List uploaded files\n",
        "print(\"\\n✅ Uploaded files:\")\n",
        "image_files = []\n",
        "for filename in uploaded.keys():\n",
        "    print(f\"  📁 {filename}\")\n",
        "    image_files.append(filename)\n",
        "\n",
        "print(f\"\\n📊 Total images: {len(image_files)}\")"
      ]
    },
    {
      "cell_type": "markdown",
      "metadata": {
        "id": "initialize"
      },
      "source": [
        "## 🎬 Initialize Video Generator"
      ]
    },
    {
      "cell_type": "code",
      "execution_count": null,
      "metadata": {
        "id": "init_generator"
      },
      "outputs": [],
      "source": [
        "# Initialize the VidGenAI Video Generator\n",
        "print(\"🚀 Initializing VidGenAI Video Generator...\")\n",
        "\n",
        "generator = LoFiVideoGenerator(\n",
        "    enable_memory_optimization=True,  # Essential for Colab\n",
        "    use_int8=True                    # Reduces memory usage\n",
        ")\n",
        "\n",
        "# Load the model (this will take a few minutes)\n",
        "print(\"📥 Loading CogVideoX-5B-I2V model...\")\n",
        "generator.load_model()\n",
        "\n",
        "print(\"✅ Generator ready!\")"
      ]
    },
    {
      "cell_type": "markdown",
      "metadata": {
        "id": "prompts"
      },
      "source": [
        "## 📝 LoFi Prompt Templates"
      ]
    },
    {
      "cell_type": "code",
      "execution_count": null,
      "metadata": {
        "id": "setup_prompts"
      },
      "outputs": [],
      "source": [
        "# Pre-defined LoFi prompts for natural scenery\n",
        "lofi_prompts = {\n",
        "    \"grass_field\": \"Gentle wind moving through tall grass, soft morning light, peaceful nature scene, subtle movement\",\n",
        "    \"water_scene\": \"Calm lake with small ripples, reflecting clouds slowly drifting by, serene atmosphere\",\n",
        "    \"forest\": \"Tree branches swaying gently in the breeze, dappled sunlight, tranquil forest scene\",\n",
        "    \"rain\": \"Soft rain drops creating ripples in a puddle, cozy rainy day atmosphere\",\n",
        "    \"sky\": \"Clouds slowly drifting across the sky, peaceful day, subtle movement\",\n",
        "    \"flowers\": \"Gentle flower petals swaying in a light breeze, soft natural lighting\",\n",
        "    \"mountains\": \"Misty mountains with slowly moving fog, peaceful morning atmosphere\",\n",
        "    \"beach\": \"Gentle waves lapping on the shore, soft sunset lighting, tranquil beach scene\"\n",
        "}\n",
        "\n",
        "# Common negative prompt\n",
        "negative_prompt = \"blurry, low quality, distorted, deformed, fast motion, jerky movement, unrealistic\"\n",
        "\n",
        "print(\"📝 Available prompt templates:\")\n",
        "for key, prompt in lofi_prompts.items():\n",
        "    print(f\"  🌿 {key}: {prompt[:50]}...\")"
      ]
    },
    {
      "cell_type": "markdown",
      "metadata": {
        "id": "single"
      },
      "source": [
        "## 🎥 Generate Single Video"
      ]
    },
    {
      "cell_type": "code",
      "execution_count": null,
      "metadata": {
        "id": "generate_single"
      },
      "outputs": [],
      "source": [
        "# Generate a single video (customize these settings)\n",
        "if image_files:\n",
        "    # Settings\n",
        "    selected_image = image_files[0]  # Use first uploaded image\n",
        "    selected_prompt = lofi_prompts[\"grass_field\"]  # Change this to match your image\n",
        "    \n",
        "    print(f\"🎬 Generating video for: {selected_image}\")\n",
        "    print(f\"📝 Prompt: {selected_prompt}\")\n",
        "    print(\"⏰ This will take 10-15 minutes...\")\n",
        "    \n",
        "    # Generate video\n",
        "    output_path = generator.generate_lofi_video(\n",
        "        image_path=selected_image,\n",
        "        prompt=selected_prompt,\n",
        "        negative_prompt=negative_prompt,\n",
        "        num_frames=49,          # ~5 seconds at 10fps\n",
        "        fps=10,                 # LoFi aesthetic FPS\n",
        "        guidance_scale=6.0,     # Balance between prompt adherence and quality\n",
        "        num_inference_steps=50, # Quality vs speed trade-off\n",
        "        generator_seed=42,      # For reproducibility\n",
        "        output_path=\"lofi_video_single.mp4\"\n",
        "    )\n",
        "    \n",
        "    print(f\"✅ Video generated: {output_path}\")\n",
        "    \n",
        "    # Download the video\n",
        "    files.download(output_path)\n",
        "    \n",
        "else:\n",
        "    print(\"❌ Please upload images first!\")"
      ]
    },
    {
      "cell_type": "markdown",
      "metadata": {
        "id": "batch"
      },
      "source": [
        "## 🎬 Generate Multiple Videos (Batch)"
      ]
    },
    {
      "cell_type": "code",
      "execution_count": null,
      "metadata": {
        "id": "generate_batch"
      },
      "outputs": [],
      "source": [
        "# Generate multiple videos with different prompts\n",
        "if len(image_files) > 1:\n",
        "    # Customize prompts for each image\n",
        "    batch_prompts = [\n",
        "        lofi_prompts[\"grass_field\"],\n",
        "        lofi_prompts[\"water_scene\"],\n",
        "        lofi_prompts[\"forest\"],\n",
        "        lofi_prompts[\"sky\"],\n",
        "        lofi_prompts[\"flowers\"]\n",
        "    ]\n",
        "    \n",
        "    # Use only as many prompts as we have images\n",
        "    num_videos = min(len(image_files), len(batch_prompts))\n",
        "    selected_images = image_files[:num_videos]\n",
        "    selected_prompts = batch_prompts[:num_videos]\n",
        "    \n",
        "    print(f\"🎬 Generating {num_videos} videos...\")\n",
        "    print(f\"⏰ Estimated time: {num_videos * 12} minutes\")\n",
        "    \n",
        "    # Generate batch\n",
        "    output_paths = generator.generate_multiple_videos(\n",
        "        image_paths=selected_images,\n",
        "        prompts=selected_prompts,\n",
        "        output_dir=\"lofi_videos_batch\",\n",
        "        negative_prompt=negative_prompt,\n",
        "        num_frames=49,\n",
        "        fps=10,\n",
        "        guidance_scale=6.0,\n",
        "        num_inference_steps=50,\n",
        "        generator_seed=42\n",
        "    )\n",
        "    \n",
        "    print(f\"\\n✅ Generated {len(output_paths)} videos:\")\n",
        "    for i, path in enumerate(output_paths):\n",
        "        print(f\"  �� {i+1}. {path}\")\n",
        "    \n",
        "    # Download all videos\n",
        "    print(\"\\n📥 Downloading videos...\")\n",
        "    for path in output_paths:\n",
        "        files.download(path)\n",
        "        \n",
        "else:\n",
        "    print(\"❌ Upload multiple images for batch generation!\")"
      ]
    },
    {
      "cell_type": "markdown",
      "metadata": {
        "id": "custom"
      },
      "source": [
        "## 🎨 Custom Generation (Advanced)"
      ]
    },
    {
      "cell_type": "code",
      "execution_count": null,
      "metadata": {
        "id": "custom_generation"
      },
      "outputs": [],
      "source": [
        "# Custom generation with your own settings\n",
        "if image_files:\n",
        "    # Customize these settings\n",
        "    CUSTOM_IMAGE = image_files[0]  # Change index to select different image\n",
        "    CUSTOM_PROMPT = \"YOUR CUSTOM PROMPT HERE\"  # Write your own prompt\n",
        "    CUSTOM_NEGATIVE = \"blurry, low quality, distorted, fast motion\"  # Customize negative prompt\n",
        "    \n",
        "    # Advanced settings\n",
        "    FRAMES = 73        # Longer video (7+ seconds)\n",
        "    FPS = 12          # Smoother playback\n",
        "    GUIDANCE = 7.0    # Higher prompt adherence\n",
        "    STEPS = 75        # Higher quality\n",
        "    SEED = 123        # Change for different results\n",
        "    \n",
        "    print(\"🎨 Custom generation settings:\")\n",
        "    print(f\"  📷 Image: {CUSTOM_IMAGE}\")\n",
        "    print(f\"  📝 Prompt: {CUSTOM_PROMPT}\")\n",
        "    print(f\"  🎞️ Frames: {FRAMES} ({FRAMES/FPS:.1f} seconds)\")\n",
        "    print(f\"  🎯 Guidance: {GUIDANCE}\")\n",
        "    print(f\"  ⚡ Steps: {STEPS}\")\n",
        "    print(f\"  🎲 Seed: {SEED}\")\n",
        "    \n",
        "    # Generate custom video\n",
        "    custom_output = generator.generate_lofi_video(\n",
        "        image_path=CUSTOM_IMAGE,\n",
        "        prompt=CUSTOM_PROMPT,\n",
        "        negative_prompt=CUSTOM_NEGATIVE,\n",
        "        num_frames=FRAMES,\n",
        "        fps=FPS,\n",
        "        guidance_scale=GUIDANCE,\n",
        "        num_inference_steps=STEPS,\n",
        "        generator_seed=SEED,\n",
        "        output_path=\"lofi_video_custom.mp4\"\n",
        "    )\n",
        "    \n",
        "    print(f\"✅ Custom video generated: {custom_output}\")\n",
        "    files.download(custom_output)\n",
        "    \n",
        "else:\n",
        "    print(\"❌ Please upload an image first!\")"
      ]
    },
    {
      "cell_type": "markdown",
      "metadata": {
        "id": "tips"
      },
      "source": [
        "## 💡 Tips & Troubleshooting"
      ]
    },
    {
      "cell_type": "code",
      "execution_count": null,
      "metadata": {
        "id": "memory_check"
      },
      "outputs": [],
      "source": [
        "# Check memory usage\n",
        "if torch.cuda.is_available():\n",
        "    memory_allocated = torch.cuda.memory_allocated() / 1024**3\n",
        "    memory_reserved = torch.cuda.memory_reserved() / 1024**3\n",
        "    memory_total = torch.cuda.get_device_properties(0).total_memory / 1024**3\n",
        "    \n",
        "    print(f\"💾 GPU Memory Status:\")\n",
        "    print(f\"  📊 Allocated: {memory_allocated:.1f} GB\")\n",
        "    print(f\"  📋 Reserved:  {memory_reserved:.1f} GB\")\n",
        "    print(f\"  💽 Total:     {memory_total:.1f} GB\")\n",
        "    print(f\"  📈 Usage:     {(memory_reserved/memory_total)*100:.1f}%\")\n",
        "    \n",
        "    if memory_reserved > 12:\n",
        "        print(\"⚠️  High memory usage! Consider:\")\n",
        "        print(\"   - Reducing num_frames\")\n",
        "        print(\"   - Reducing num_inference_steps\")\n",
        "        print(\"   - Restarting runtime\")\n",
        "        \n",
        "# Clear memory if needed\n",
        "# torch.cuda.empty_cache()\n",
        "# import gc\n",
        "# gc.collect()"
      ]
    },
    {
      "cell_type": "markdown",
      "metadata": {
        "id": "examples"
      },
      "source": [
        "## 📚 Example Prompts for Different Scenes\n",
        "\n",
        "### 🌱 Natural Landscapes\n",
        "- `\"Gentle wind moving through tall grass, soft morning light, peaceful nature scene\"`\n",
        "- `\"Tree branches swaying gently in the breeze, dappled sunlight filtering through leaves\"`\n",
        "- `\"Wildflowers swaying in a meadow, warm golden hour lighting\"`\n",
        "\n",
        "### 💧 Water Scenes\n",
        "- `\"Calm lake with small ripples, reflecting clouds slowly drifting by\"`\n",
        "- `\"Gentle waves lapping on a pebble beach, soft sunset lighting\"`\n",
        "- `\"Rain drops creating ripples in a puddle, cozy atmosphere\"`\n",
        "\n",
        "### 🌤️ Sky & Weather\n",
        "- `\"Clouds slowly drifting across a blue sky, peaceful day\"`\n",
        "- `\"Mist slowly rolling over hills, soft morning atmosphere\"`\n",
        "- `\"Gentle snowfall in a quiet winter scene\"`\n",
        "\n",
        "### 🏠 Cozy Scenes\n",
        "- `\"Steam rising from a hot cup, warm indoor lighting\"`\n",
        "- `\"Curtains gently swaying by an open window, soft breeze\"`\n",
        "- `\"Candle flame flickering softly, warm cozy atmosphere\"`"
      ]
    }
  ],
  "metadata": {
    "colab": {
      "provenance": [],
      "gpuType": "T4"
    },
    "kernelspec": {
      "display_name": "Python 3",
      "name": "python3"
    },
    "language_info": {
      "name": "python"
    },
    "accelerator": "GPU"
  },
  "nbformat": 4,
  "nbformat_minor": 0
}
